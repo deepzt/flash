{
 "cells": [
  {
   "cell_type": "markdown",
   "metadata": {},
   "source": [
    "# Flash Report — Operation 1 Complete (Part 2)\n",
    "\n",
    "**Run Part 1 first, then continue with this notebook.**\n",
    "\n",
    "This contains US/CA processing, calculations, and Excel report generation."
   ]
  },
  {
   "cell_type": "markdown",
   "metadata": {},
   "source": [
    "## US and CA Path Processing"
   ]
  },
  {
   "cell_type": "code",
   "execution_count": null,
   "metadata": {},
   "outputs": [],
   "source": [
    "# US Path — Map BU/Type and build Scheme_Name\n",
    "print('[*] Processing US data with US reference file...')\n",
    "df_extend_columns_us = df_extend_columns.copy()\n",
    "df_mapping_us = df_source_us.groupby('PL', as_index=True)[['BU','TYPE']].first()\n",
    "df_extend_columns_us['BU'] = df_extend_columns_us['PRODUCT_LINE'].map(df_mapping_us['BU'])\n",
    "df_extend_columns_us['BU_Type'] = df_extend_columns_us['PRODUCT_LINE'].map(df_mapping_us['TYPE'])\n",
    "df_extend_columns_us['Scheme_Name'] = df_extend_columns_us['BU'].fillna('') + df_extend_columns_us['BU_Type'].fillna('')\n",
    "\n",
    "# CA Path — Map BU/Type and build Scheme_Name\n",
    "print('[*] Processing CA data with CA reference file...')\n",
    "df_extend_columns_ca = df_extend_columns.copy()\n",
    "df_mapping_ca = df_source_ca.groupby('PL', as_index=True)[['BU','TYPE']].first()\n",
    "df_extend_columns_ca['BU'] = df_extend_columns_ca['PRODUCT_LINE'].map(df_mapping_ca['BU'])\n",
    "df_extend_columns_ca['BU_Type'] = df_extend_columns_ca['PRODUCT_LINE'].map(df_mapping_ca['TYPE'])\n",
    "df_extend_columns_ca['Scheme_Name'] = df_extend_columns_ca['BU'].fillna('') + df_extend_columns_ca['BU_Type'].fillna('')\n",
    "\n",
    "print('US and CA path processing completed')\n",
    "print(f'US data shape: {df_extend_columns_us.shape}')\n",
    "print(f'CA data shape: {df_extend_columns_ca.shape}')"
   ]
  },
  {
   "cell_type": "markdown",
   "metadata": {},
   "source": [
    "## Exclusions Processing"
   ]
  },
  {
   "cell_type": "code",
   "execution_count": null,
   "metadata": {},
   "outputs": [],
   "source": [
    "# US Exclusions & Partners\n",
    "print('[*] Processing US exclusions and partner data...')\n",
    "df_exclusions_columns_us = df_extend_columns_us.assign(Exclusions='', PG_Exclusions='', Disty_Partners='')\n",
    "df_mapping_exc_us = df_source_us.groupby('EXCLUSION_PARTY_ID', as_index=True)['EXCLUSION_LEVEL'].first()\n",
    "df_exclusions_columns_us['Exclusions'] = df_exclusions_columns_us['RESELLER_PARTY_ID'].map(df_mapping_exc_us)\n",
    "df_exclusions_columns_us['PG_Exclusions'] = np.where(\n",
    "    df_exclusions_columns_us['RESELLER_PARTY_ID'].isin(df_source_us['PG_EXCLUSION_ELIGIBLE_LIST_PARTY_ID']), 'PG', 'SBP'\n",
    ")\n",
    "try:\n",
    "    df_exclusions_columns_us['Disty_Partners'] = np.where(\n",
    "        df_exclusions_columns_us['DISTRIBUTOR_PARTY_ID'].isin(df_source_us['LOC_ID']),\n",
    "        df_exclusions_columns_us['DISTRIBUTOR_PARTY_ID'], ''\n",
    "    )\n",
    "except Exception as e:\n",
    "    print(f'US - An unexpected error occurred: {e}')\n",
    "df_exclusions_columns_us = df_exclusions_columns_us[df_exclusions_columns_us['Disty_Partners'] != '']\n",
    "try:\n",
    "    df_exclusions_columns_us['Disty_Partners'] = pd.to_numeric(df_exclusions_columns_us['Disty_Partners'], errors='coerce')\n",
    "    df_exclusions_columns_us = df_exclusions_columns_us.dropna(subset=['Disty_Partners'])\n",
    "except Exception as e:\n",
    "    print(f'US - Error converting Disty_Partners to numeric: {e}')\n",
    "\n",
    "print(f'US exclusions data shape: {df_exclusions_columns_us.shape}')\n",
    "\n",
    "# CA Exclusions & Partners\n",
    "print('[*] Processing CA exclusions and partner data...')\n",
    "df_exclusions_columns_ca = df_extend_columns_ca.assign(Exclusions='', PG_Exclusions='', Disty_Partners='')\n",
    "df_mapping_exc_ca = df_source_ca.groupby('EXCLUSION_PARTY_ID', as_index=True)['EXCLUSION_LEVEL'].first()\n",
    "df_exclusions_columns_ca['Exclusions'] = df_exclusions_columns_ca['RESELLER_PARTY_ID'].map(df_mapping_exc_ca)\n",
    "df_exclusions_columns_ca['PG_Exclusions'] = np.where(\n",
    "    df_exclusions_columns_ca['RESELLER_PARTY_ID'].isin(df_source_ca['PG_EXCLUSION_ELIGIBLE_LIST_PARTY_ID']), 'PG', 'SBP'\n",
    ")\n",
    "try:\n",
    "    df_exclusions_columns_ca['Disty_Partners'] = np.where(\n",
    "        df_exclusions_columns_ca['DISTRIBUTOR_PARTY_ID'].isin(df_source_ca['LOC_ID']),\n",
    "        df_exclusions_columns_ca['DISTRIBUTOR_PARTY_ID'], ''\n",
    "    )\n",
    "except Exception as e:\n",
    "    print(f'CA - An unexpected error occurred: {e}')\n",
    "df_exclusions_columns_ca = df_exclusions_columns_ca[df_exclusions_columns_ca['Disty_Partners'] != '']\n",
    "try:\n",
    "    df_exclusions_columns_ca['Disty_Partners'] = pd.to_numeric(df_exclusions_columns_ca['Disty_Partners'], errors='coerce')\n",
    "    df_exclusions_columns_ca = df_exclusions_columns_ca.dropna(subset=['Disty_Partners'])\n",
    "except Exception as e:\n",
    "    print(f'CA - Error converting Disty_Partners to numeric: {e}')\n",
    "\n",
    "print(f'CA exclusions data shape: {df_exclusions_columns_ca.shape}')\n",
    "print('Exclusions processing completed')"
   ]
  },
  {
   "cell_type": "markdown",
   "metadata": {},
   "source": [
    "## Calculations"
   ]
  },
  {
   "cell_type": "code",
   "execution_count": null,
   "metadata": {},
   "outputs": [],
   "source": [
    "# US Calculations\n",
    "print('[*] Starting US Calculation of Metrics...')\n",
    "df_exclusions_columns_calc_us = df_exclusions_columns_us.assign(Delta='', Updated_upfront='', Diff='', Match='', Match_1='')\n",
    "for col in ['Delta','Updated_upfront','Diff','Match','Match_1']:\n",
    "    df_exclusions_columns_calc_us[col] = pd.to_numeric(df_exclusions_columns_calc_us[col], errors='coerce')\n",
    "df_exclusions_columns_calc_us['Delta'] = (df_exclusions_columns_calc_us['NDP_TOTAL_USD'] - df_exclusions_columns_calc_us['UPFRONT_DISCOUNT_AMT_USD'] - df_exclusions_columns_calc_us['BACKEND_DISCOUNT_AMT_USD']) - df_exclusions_columns_calc_us['NET_TOTAL_USD']\n",
    "df_exclusions_columns_calc_us['Updated_upfront'] = (df_exclusions_columns_calc_us['Delta'] + df_exclusions_columns_calc_us['UPFRONT_DISCOUNT_AMT_USD'])\n",
    "df_exclusions_columns_calc_us['Diff'] = (df_exclusions_columns_calc_us['NDP_TOTAL_USD'] - df_exclusions_columns_calc_us['BACKEND_DISCOUNT_AMT_USD'] - df_exclusions_columns_calc_us['Updated_upfront'] - df_exclusions_columns_calc_us['NET_TOTAL_USD'])\n",
    "df_exclusions_columns_calc_us['Match'] = df_exclusions_columns_calc_us['NDP_TOTAL_USD'] - (df_exclusions_columns_calc_us['Updated_upfront'] + df_exclusions_columns_calc_us['BACKEND_DISCOUNT_AMT_USD'])\n",
    "df_exclusions_columns_calc_us['Match_1'] = df_exclusions_columns_calc_us['Match'] - df_exclusions_columns_calc_us['NET_TOTAL_USD']\n",
    "\n",
    "# CA Calculations\n",
    "print('[*] Starting CA Calculation of Metrics...')\n",
    "df_exclusions_columns_calc_ca = df_exclusions_columns_ca.assign(Delta='', Updated_upfront='', Diff='', Match='', Match_1='')\n",
    "for col in ['Delta','Updated_upfront','Diff','Match','Match_1']:\n",
    "    df_exclusions_columns_calc_ca[col] = pd.to_numeric(df_exclusions_columns_calc_ca[col], errors='coerce')\n",
    "df_exclusions_columns_calc_ca['Delta'] = (df_exclusions_columns_calc_ca['NDP_TOTAL_LC'] - df_exclusions_columns_calc_ca['UPFRONT_DISCOUNT_AMT_LC'] - df_exclusions_columns_calc_ca['BACKEND_DISCOUNT_AMT_LC']) - df_exclusions_columns_calc_ca['NET_TOTAL_LC']\n",
    "df_exclusions_columns_calc_ca['Updated_upfront'] = (df_exclusions_columns_calc_ca['Delta'] + df_exclusions_columns_calc_ca['UPFRONT_DISCOUNT_AMT_LC'])\n",
    "df_exclusions_columns_calc_ca['Diff'] = (df_exclusions_columns_calc_ca['NDP_TOTAL_LC'] - df_exclusions_columns_calc_ca['BACKEND_DISCOUNT_AMT_LC'] - df_exclusions_columns_calc_ca['Updated_upfront'] - df_exclusions_columns_calc_ca['NET_TOTAL_LC'])\n",
    "df_exclusions_columns_calc_ca['Match'] = df_exclusions_columns_calc_ca['NDP_TOTAL_LC'] - (df_exclusions_columns_calc_ca['Updated_upfront'] + df_exclusions_columns_calc_ca['BACKEND_DISCOUNT_AMT_LC'])\n",
    "df_exclusions_columns_calc_ca['Match_1'] = df_exclusions_columns_calc_ca['Match'] - df_exclusions_columns_calc_ca['NET_TOTAL_LC']\n",
    "\n",
    "print('Calculations completed')\n",
    "print(f'US calculations shape: {df_exclusions_columns_calc_us.shape}')\n",
    "print(f'CA calculations shape: {df_exclusions_columns_calc_ca.shape}')"
   ]
  },
  {
   "cell_type": "markdown",
   "metadata": {},
   "source": [
    "## Final Columns Processing"
   ]
  },
  {
   "cell_type": "code",
   "execution_count": null,
   "metadata": {},
   "outputs": [],
   "source": [
    "# US Final Columns — PIPP, PN_Standalone, Common_PN_PL\n",
    "print('[*] Processing US final columns...')\n",
    "df_exclusions_columns_final_us = df_exclusions_columns_calc_us.assign(PIPP_delas='', PN_Standalone='', Common_PN_PL='')\n",
    "df_exclusions_columns_final_us['PIPP_delas'] = df_exclusions_columns_final_us['BACKEND_DEAL_1'].where(\n",
    "    df_exclusions_columns_final_us['BACKEND_DEAL_1'].isin(df_source_us['ELICPES'])\n",
    ")\n",
    "df_mapping_pns_us = df_source_us.groupby('PN_PL', as_index=True)['BU_1'].first()\n",
    "df_exclusions_columns_final_us['PN_Standalone'] = df_exclusions_columns_final_us['PRODUCT_LINE'].map(df_mapping_pns_us)\n",
    "df_mapping_pnpl_us = df_source_us.groupby('COMMON_PL', as_index=True)['COMMON_PN_PL'].first()\n",
    "df_exclusions_columns_final_us['Common_PN_PL'] = df_exclusions_columns_final_us['PRODUCT_LINE'].map(df_mapping_pnpl_us)\n",
    "\n",
    "# CA Final Columns — PIPP, PN_Standalone, Common_PN_PL\n",
    "print('[*] Processing CA final columns...')\n",
    "df_exclusions_columns_final_ca = df_exclusions_columns_calc_ca.assign(PIPP_delas='', PN_Standalone='', Common_PN_PL='')\n",
    "df_exclusions_columns_final_ca['PIPP_delas'] = df_exclusions_columns_final_ca['BACKEND_DEAL_1'].where(\n",
    "    df_exclusions_columns_final_ca['BACKEND_DEAL_1'].isin(df_source_ca['ELICPES'])\n",
    ")\n",
    "df_mapping_pns_ca = df_source_ca.groupby('PN_PL', as_index=True)['BU_1'].first()\n",
    "df_exclusions_columns_final_ca['PN_Standalone'] = df_exclusions_columns_final_ca['PRODUCT_LINE'].map(df_mapping_pns_ca)\n",
    "df_mapping_pnpl_ca = df_source_ca.groupby('COMMON_PL', as_index=True)['COMMON_PN_PL'].first()\n",
    "df_exclusions_columns_final_ca['Common_PN_PL'] = df_exclusions_columns_final_ca['PRODUCT_LINE'].map(df_mapping_pnpl_ca)\n",
    "\n",
    "print('Final columns processing completed')\n",
    "print(f'US final shape: {df_exclusions_columns_final_us.shape}')\n",
    "print(f'CA final shape: {df_exclusions_columns_final_ca.shape}')\n",
    "\n",
    "# Store final results for report generation\n",
    "report_us = df_exclusions_columns_final_us\n",
    "report_ca = df_exclusions_columns_final_ca\n",
    "\n",
    "print('\\nOperation 1 processing completed successfully!')"
   ]
  }
 ],
 "metadata": {
  "kernelspec": {
   "display_name": "Python 3",
   "language": "python",
   "name": "python3"
  },
  "language_info": {
   "codemirror_mode": {
    "name": "ipython",
    "version": 3
   },
   "file_extension": ".py",
   "mimetype": "text/x-python",
   "name": "python",
   "nbconvert_exporter": "python",
   "pygments_lexer": "ipython3",
   "version": "3"
  }
 },
 "nbformat": 4,
 "nbformat_minor": 5
}
